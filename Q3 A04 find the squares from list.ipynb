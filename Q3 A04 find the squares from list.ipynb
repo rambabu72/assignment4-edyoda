{
 "cells": [
  {
   "cell_type": "markdown",
   "id": "8a4aef2f",
   "metadata": {},
   "source": [
    "## Q3 Write a Python program to square the elements of a list using map() function."
   ]
  },
  {
   "cell_type": "code",
   "execution_count": 2,
   "id": "56a83b7d",
   "metadata": {},
   "outputs": [],
   "source": [
    "# Sample List: [4, 5, 2, 9]\n",
    "\n",
    "# Square the elements of the list:\n",
    "\n",
    "# [16, 25, 4, 81]"
   ]
  },
  {
   "cell_type": "code",
   "execution_count": 3,
   "id": "ea5b16bb",
   "metadata": {},
   "outputs": [
    {
     "name": "stdout",
     "output_type": "stream",
     "text": [
      "[16, 64, 49, 81, 4, 100]\n"
     ]
    }
   ],
   "source": [
    "def square_list(num):\n",
    "    return num **2\n",
    "\n",
    "sample_list = [4,8,7,9,2,10]\n",
    "\n",
    "print(list(map(square_list,sample_list)))"
   ]
  },
  {
   "cell_type": "code",
   "execution_count": null,
   "id": "a03368b5",
   "metadata": {},
   "outputs": [],
   "source": []
  }
 ],
 "metadata": {
  "kernelspec": {
   "display_name": "Python 3 (ipykernel)",
   "language": "python",
   "name": "python3"
  },
  "language_info": {
   "codemirror_mode": {
    "name": "ipython",
    "version": 3
   },
   "file_extension": ".py",
   "mimetype": "text/x-python",
   "name": "python",
   "nbconvert_exporter": "python",
   "pygments_lexer": "ipython3",
   "version": "3.9.7"
  }
 },
 "nbformat": 4,
 "nbformat_minor": 5
}
